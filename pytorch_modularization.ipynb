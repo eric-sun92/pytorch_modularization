{
  "nbformat": 4,
  "nbformat_minor": 0,
  "metadata": {
    "colab": {
      "provenance": [],
      "authorship_tag": "ABX9TyMzo8yf4J4tNHt+u0W0luCn",
      "include_colab_link": true
    },
    "kernelspec": {
      "name": "python3",
      "display_name": "Python 3"
    },
    "language_info": {
      "name": "python"
    }
  },
  "cells": [
    {
      "cell_type": "markdown",
      "metadata": {
        "id": "view-in-github",
        "colab_type": "text"
      },
      "source": [
        "<a href=\"https://colab.research.google.com/github/eric-sun92/pytorch_modularization/blob/main/pytorch_modularization.ipynb\" target=\"_parent\"><img src=\"https://colab.research.google.com/assets/colab-badge.svg\" alt=\"Open In Colab\"/></a>"
      ]
    },
    {
      "cell_type": "code",
      "execution_count": 1,
      "metadata": {
        "colab": {
          "base_uri": "https://localhost:8080/"
        },
        "id": "pCUje2nA4lWu",
        "outputId": "8357588b-f022-4933-aec4-7453b2354a90"
      },
      "outputs": [
        {
          "output_type": "stream",
          "name": "stdout",
          "text": [
            "Writing hello_world.py\n"
          ]
        }
      ],
      "source": [
        "%%writefile hello_world.py\n",
        "print(\"hello world, machine learning is fun!\")"
      ]
    },
    {
      "cell_type": "code",
      "source": [
        "%%script python hello_world.py"
      ],
      "metadata": {
        "colab": {
          "base_uri": "https://localhost:8080/"
        },
        "id": "bFel3wYf5Hv9",
        "outputId": "183f5fd6-2a7c-49db-9b78-0f38e8bc3b3c"
      },
      "execution_count": 7,
      "outputs": [
        {
          "output_type": "stream",
          "name": "stdout",
          "text": [
            "hello world, machine learning is very fun!\n"
          ]
        }
      ]
    },
    {
      "cell_type": "code",
      "source": [],
      "metadata": {
        "id": "2kb8ShAY5S4d"
      },
      "execution_count": null,
      "outputs": []
    }
  ]
}